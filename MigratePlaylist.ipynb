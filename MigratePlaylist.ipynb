{
 "cells": [
  {
   "cell_type": "code",
   "execution_count": null,
   "id": "048e93a5-dcc0-49b9-bd6f-247dbbfa58b8",
   "metadata": {
    "tags": []
   },
   "outputs": [],
   "source": [
    "import itertools\n",
    "import spotipy\n",
    "import ytmusicapi\n",
    "from tqdm import tqdm"
   ]
  },
  {
   "cell_type": "code",
   "execution_count": null,
   "id": "eafdb602-eeb8-4ecc-956e-d6975bb8cf7e",
   "metadata": {},
   "outputs": [],
   "source": [
    "# export spotify client ID and client secret before executing this\n",
    "auth_manager = spotipy.oauth2.SpotifyClientCredentials()\n",
    "spotify_client=spotipy.Spotify(auth_manager=auth_manager)"
   ]
  },
  {
   "cell_type": "code",
   "execution_count": null,
   "id": "edaa8d8c-afc5-490d-82f0-327790a7630d",
   "metadata": {
    "tags": []
   },
   "outputs": [],
   "source": [
    "# Read ytmusicapi documentation to copy headers\n",
    "# https://ytmusicapi.readthedocs.io/en/stable/setup/browser.html\n",
    "ytmusicapi.setup(filepath=\"headers_auth.json\", headers_raw=\"\"\"<headers copied>\"\"\")"
   ]
  },
  {
   "cell_type": "code",
   "execution_count": null,
   "id": "1e520beb-5e22-42d1-a7f2-6f810f8b7fe6",
   "metadata": {
    "tags": []
   },
   "outputs": [],
   "source": [
    "ytmusic_client = ytmusicapi.YTMusic(\"headers_auth.json\")"
   ]
  },
  {
   "cell_type": "code",
   "execution_count": null,
   "id": "57eb0071-f9fd-4158-a465-7e6ac21ba0b5",
   "metadata": {},
   "outputs": [],
   "source": [
    "def playlist_items(spotify_playlist_id):\n",
    "    for offset in itertools.count(step=100):\n",
    "        resp = spotify_client.playlist_items(spotify_playlist_id, offset=offset, limit=100)\n",
    "        for item in resp[\"items\"]:\n",
    "            yield item\n",
    "        if resp[\"next\"] is None:\n",
    "            return"
   ]
  },
  {
   "cell_type": "code",
   "execution_count": null,
   "id": "174d3230-492a-447b-9a5f-5f6f226177b3",
   "metadata": {
    "tags": []
   },
   "outputs": [],
   "source": [
    "items = list(playlist_items(spotify_playlist_id))"
   ]
  },
  {
   "cell_type": "code",
   "execution_count": null,
   "id": "a2da40e3-0319-4c0d-8dd5-9f8e54fc83b9",
   "metadata": {
    "tags": []
   },
   "outputs": [],
   "source": [
    "item = items[0]"
   ]
  },
  {
   "cell_type": "code",
   "execution_count": null,
   "id": "2e05f657-f9ba-47db-a651-d7715a4f6bde",
   "metadata": {
    "tags": []
   },
   "outputs": [],
   "source": [
    "title = item[\"track\"][\"name\"]\n",
    "album = item[\"track\"][\"album\"][\"name\"]\n",
    "artists = \" \".join([_[\"name\"] for _ in item[\"track\"][\"artists\"] if _[\"type\"] == \"artist\"])\n",
    "\n",
    "query = f\"{title} {album} {artists}\"\n",
    "query"
   ]
  },
  {
   "cell_type": "code",
   "execution_count": null,
   "id": "c87ede79-db4a-4cbf-9f3a-1024209fd973",
   "metadata": {
    "tags": []
   },
   "outputs": [],
   "source": [
    "yt_playlist_id = ytmusic_client.create_playlist(\"<Playlist Name\", \"Playlist Description\")"
   ]
  },
  {
   "cell_type": "code",
   "execution_count": null,
   "id": "f4da0325-82fb-493e-8acd-eb37ac495196",
   "metadata": {
    "tags": []
   },
   "outputs": [],
   "source": [
    "search_results = ytmusic_client.search(query)"
   ]
  },
  {
   "cell_type": "code",
   "execution_count": null,
   "id": "040cca4d-d919-4cca-85e9-dc76b8134c4c",
   "metadata": {
    "tags": []
   },
   "outputs": [],
   "source": [
    "video_ids = []\n",
    "\n",
    "for item in tqdm(items):\n",
    "    title = item[\"track\"][\"name\"]\n",
    "    album = item[\"track\"][\"album\"][\"name\"]\n",
    "    artists = \" \".join([_[\"name\"] for _ in item[\"track\"][\"artists\"] if _[\"type\"] == \"artist\"])\n",
    "\n",
    "    query = f\"{title} {album} {artists}\"\n",
    "    search_results = ytmusic_client.search(query)\n",
    "    for result in search_results:\n",
    "        if result[\"resultType\"] == \"song\" or result[\"resultType\"] == \"video\":\n",
    "            video_ids.append(result[\"videoId\"])\n",
    "            break\n",
    "    else:\n",
    "        print(f\"Could not find a match for {query}\")"
   ]
  },
  {
   "cell_type": "code",
   "execution_count": null,
   "id": "23d20233-0e6e-4170-80a1-6a8720a184cf",
   "metadata": {
    "tags": []
   },
   "outputs": [],
   "source": [
    "ytmusic_client.add_playlist_items(yt_playlist_id, video_ids)\n",
    "# You should see 'status': 'STATUS_SUCCEEDED' if successful"
   ]
  }
 ],
 "metadata": {
  "kernelspec": {
   "display_name": "Python 3 (ipykernel)",
   "language": "python",
   "name": "python3"
  },
  "language_info": {
   "codemirror_mode": {
    "name": "ipython",
    "version": 3
   },
   "file_extension": ".py",
   "mimetype": "text/x-python",
   "name": "python",
   "nbconvert_exporter": "python",
   "pygments_lexer": "ipython3",
   "version": "3.10.11"
  }
 },
 "nbformat": 4,
 "nbformat_minor": 5
}
